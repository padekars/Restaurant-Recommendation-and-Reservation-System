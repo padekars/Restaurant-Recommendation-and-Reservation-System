{
 "cells": [
  {
   "cell_type": "code",
   "execution_count": 4,
   "id": "357c58eb",
   "metadata": {},
   "outputs": [],
   "source": [
    "import pandas as pd\n"
   ]
  },
  {
   "cell_type": "code",
   "execution_count": 5,
   "id": "e0703ee5",
   "metadata": {},
   "outputs": [
    {
     "data": {
      "text/plain": [
       "0"
      ]
     },
     "execution_count": 5,
     "metadata": {},
     "output_type": "execute_result"
    }
   ],
   "source": [
    "import pymysql\n",
    "#connection between python and mysql workbench\n",
    "conn=pymysql.connect(host='localhost',port=int(3306),user='root',passwd='Snehal1&',db='r3_db_system')\n",
    "cursor= conn.cursor()\n",
    "conn.query('SET GLOBAL connect_timeout=600')"
   ]
  },
  {
   "cell_type": "code",
   "execution_count": 6,
   "id": "0e109b04",
   "metadata": {},
   "outputs": [
    {
     "data": {
      "text/plain": [
       "(5, '21:13:25', '2022-05-14', 'Popeyes', 'Sage')"
      ]
     },
     "execution_count": 6,
     "metadata": {},
     "output_type": "execute_result"
    }
   ],
   "source": [
    "cursor = conn.cursor()\n",
    "args = (5, '21:13:25','2022-05-14','Popeyes','Sage')\n",
    "cursor.callproc('restaurant_reservation', args = args)\n"
   ]
  },
  {
   "cell_type": "code",
   "execution_count": null,
   "id": "05809246",
   "metadata": {},
   "outputs": [],
   "source": []
  }
 ],
 "metadata": {
  "kernelspec": {
   "display_name": "Python 3 (ipykernel)",
   "language": "python",
   "name": "python3"
  },
  "language_info": {
   "codemirror_mode": {
    "name": "ipython",
    "version": 3
   },
   "file_extension": ".py",
   "mimetype": "text/x-python",
   "name": "python",
   "nbconvert_exporter": "python",
   "pygments_lexer": "ipython3",
   "version": "3.10.8"
  }
 },
 "nbformat": 4,
 "nbformat_minor": 5
}
